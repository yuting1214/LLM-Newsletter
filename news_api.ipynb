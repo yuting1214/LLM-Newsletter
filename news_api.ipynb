{
 "cells": [
  {
   "cell_type": "code",
   "execution_count": 4,
   "metadata": {},
   "outputs": [],
   "source": [
    "import os\n",
    "from dotenv import load_dotenv\n",
    "from eventregistry import EventRegistry, QueryArticlesIter, QueryItems\n",
    "\n",
    "_ = load_dotenv('.env')\n",
    "\n",
    "# Initialize the Event Registry\n",
    "er = EventRegistry(apiKey=os.getenv(\"NEWS_API_KEY\"), allowUseOfArchive=False)\n",
    "\n",
    "# Define keywords and categories\n",
    "fun_keywords = [\"funny\", \"entertainment\", \"humor\", \"offbeat\"]\n",
    "growth_keywords = [\"motivation\", \"personal development\", \"self-help\", \"psychology\"]\n",
    "learn_english_keywords = [\"learning English\", \"beginner English\", \"easy reading\"]\n",
    "\n",
    "# Get URIs for categories\n",
    "entertainment_uri = er.getCategoryUri(\"entertainment\")\n",
    "psychology_uri = er.getCategoryUri(\"psychology\")\n",
    "\n",
    "# Define the query\n",
    "query = QueryArticlesIter(\n",
    "    keywords=QueryItems.OR(fun_keywords + growth_keywords + learn_english_keywords),\n",
    "    categoryUri=QueryItems.OR([entertainment_uri, psychology_uri]),\n",
    "    lang=\"eng\",\n",
    "    isDuplicateFilter=\"skipDuplicates\"\n",
    ")\n"
   ]
  },
  {
   "cell_type": "code",
   "execution_count": 9,
   "metadata": {},
   "outputs": [],
   "source": [
    "import os\n",
    "from dotenv import load_dotenv\n",
    "from eventregistry import EventRegistry, QueryArticlesIter, QueryItems\n",
    "\n",
    "_ = load_dotenv('.env')\n",
    "\n",
    "# Initialize the Event Registry\n",
    "er = EventRegistry(apiKey=os.getenv(\"NEWS_API_KEY\"), allowUseOfArchive=False)\n",
    "\n",
    "# Define keywords and categories\n",
    "keywords = [\"台灣網紅\", \"Youtuber\", \"演藝圈\"]\n",
    "\n",
    "# Get URIs for categories\n",
    "entertainment_uri = er.getCategoryUri(\"entertainment\")\n",
    "\n",
    "# Define the query\n",
    "query = QueryArticlesIter(\n",
    "    keywords=QueryItems.OR(keywords),\n",
    "    categoryUri=QueryItems.OR([entertainment_uri]),\n",
    "    lang=\"zho\",\n",
    "    isDuplicateFilter=\"skipDuplicates\"\n",
    ")\n"
   ]
  },
  {
   "cell_type": "code",
   "execution_count": 10,
   "metadata": {},
   "outputs": [],
   "source": [
    "max_items = 50\n",
    "# Fetch articles\n",
    "articles_tw = []\n",
    "for article in query.execQuery(er, sortBy=\"date\", maxItems=max_items):\n",
    "    articles_tw.append({\n",
    "        \"title\": article.get(\"title\"),\n",
    "        \"body\": article.get(\"body\"),\n",
    "        \"url\": article.get(\"url\"),\n",
    "        \"source\": article.get(\"source\", {}).get(\"title\"),\n",
    "        \"date\": article.get(\"date\")\n",
    "    })"
   ]
  },
  {
   "cell_type": "code",
   "execution_count": 13,
   "metadata": {},
   "outputs": [
    {
     "data": {
      "text/plain": [
       "{'title': '與黃曉明合拍新劇 趙麗穎5歲兒子探班引圍觀 | 想想 | 造城者 | 風吹半夏 | 大紀元',\n",
       " 'body': '【大紀元2024年12月26日訊】（大紀元記者佟亦加報導）被形容為忙到「不是在拍戲，就是在去拍戲路上」的大陸女星趙麗穎，近期與黃曉明拍攝新劇《造城者》。期間她被拍到帶5歲的兒子去劇組探班，母子倆的側臉幾乎如出一轍，引發網友好奇圍觀。\\n\\n處於人生高光時刻的趙麗穎，今年不僅獲得金鷹和飛天座視后獎項，還拿下自己的首座電影獎 -- -- 百花獎最佳女配角。正與黃曉明拍新劇《造城者》的她，日前被捕捉到帶著5歲兒子「想想」探班劇組的畫面。\\n\\n畫面顯示，穿著一身深色休閒套裝的「想想」跟著趙麗穎到了劇組，車剛停穩，活潑好動的「想想」立刻跳下車，蹦蹦跳跳，走路超可愛。隨後，趙麗穎突然發現兒子沒戴帽子，又返回車上取，立刻幫兒子戴上帽子，生怕兒子被凍著涼著了。她給兒子戴上帽子後，還用手輕輕壓了壓，顯得很細心，生怕帽子不穩被冷風吹走。而「想想」似乎對什麼都很好奇，最後還跟導演在片場捉迷藏，玩得超開心。\\n\\n過程中，趙麗穎的眼神一直跟著兒子，母愛完全藏不住。狗仔透露，雖然母子倆都戴著口罩看不清五官，但「想想」與媽媽的臉型幾乎一樣，完全遺傳了好基因。\\n\\n今年37歲的趙麗穎，與大9歲的馮紹峰曾合作《西遊記之女兒國》《知否知否應是綠肥紅瘦》等影視劇，儘管因戲結緣的兩人，婚姻僅維持三年，但雙方的關係迄今一直備受外界關注。\\n\\n趙麗穎與馮紹峰離婚後，雖然兒子由馮紹峰撫養，但兩人都儘量抽時間陪伴孩子。趙麗穎受訪時曾坦言，因為對方家的經濟狀況比較好，經過討論後決定將兒子給前夫一家照顧。而她也不時被拍到去馮紹峰家接兒子出遊，隔天又將兒子送回男方家，同時兩人不時被拍到一起帶娃和聚餐的畫面，一度被網友笑稱為「大陸演藝圈難得的離婚典範」，兩人複合傳聞也不時登上熱搜。\\n\\n離婚後的趙麗穎，似乎事業一路暢旺，被網友形容為「像開了掛一樣」。除了與林更新主演的電視劇《與鳳行》爆紅，收視創下新高，而且如前所述她跨足電影圈也成績亮眼，近年陸續參演《第二十條》《浴火之路》《喬妍的心事》等電影，並憑藉電影《第二十條》、劇集《風吹半夏》分別獲得影視大獎。\\n\\n責任編輯：葉紫微',\n",
       " 'url': 'https://www.epochtimes.com/b5/24/12/25/n14397955.htm',\n",
       " 'source': 'The Epoch Times',\n",
       " 'date': '2024-12-26'}"
      ]
     },
     "execution_count": 13,
     "metadata": {},
     "output_type": "execute_result"
    }
   ],
   "source": [
    "articles_tw[20]"
   ]
  },
  {
   "cell_type": "code",
   "execution_count": 5,
   "metadata": {},
   "outputs": [],
   "source": [
    "max_items = 50\n",
    "# Fetch articles\n",
    "articles = []\n",
    "for article in query.execQuery(er, sortBy=\"date\", maxItems=max_items):\n",
    "    articles.append({\n",
    "        \"title\": article.get(\"title\"),\n",
    "        \"body\": article.get(\"body\"),\n",
    "        \"url\": article.get(\"url\"),\n",
    "        \"source\": article.get(\"source\", {}).get(\"title\"),\n",
    "        \"date\": article.get(\"date\")\n",
    "    })"
   ]
  },
  {
   "cell_type": "code",
   "execution_count": 8,
   "metadata": {},
   "outputs": [
    {
     "data": {
      "text/plain": [
       "{'title': '8 weekend things to do around Colorado Springs and beyond: Kwanzaa, skating, lights, hikes and more',\n",
       " 'body': 'THURSDAY-JAN. 1\\n\\nThe 35th local celebration of Kwanzaa, created by African Americans nationally to honor African culture, is a time \"of family, community and culture.\" Presented by Kuumba Cultural Collective of Southern Colorado at In-Balance Wellness Studio, 2820 E. Pikes Peak Ave., it begins Thursday and then nightly at 6 p.m., cospringskwanzaa.org. Seven theme candles to light: Umoja (unity), Kujichagulia (self-determination); Ujima (collective work and responsibility); Ujamaa (cooperative economics); Nia (purpose); Kuumba (creativity); and Imani (faith).\\n\\nTHROUGH JAN. 1\\n\\nSkate in the Park is a special time for families including during holiday week and on New Year\\'s Eve in downtown Acacia Park. From 1 to 3 p.m.Saturday there\\'s even a Bisque & Bytes theme day with free grilled cheese sandwiches and tomato bisque soup for the first 200 skaters. Skating is $13 and includes skates, free for kiddos 4 and under with paying adult. Credit cards preferred. For times, go to downtowncs.com/event/skate,\\n\\nTHURSDAY-SUNDAY\\n\\nThe popular run of \"The Little Mermaid\" at Colorado Springs Fine Arts Center at Colorado College concludes this weekend, through Sunday, evenings and some matinees. A big production, it has 22 performers, special costumes and 52 locally designed puppets for the beloved story of the mermaid princess who falls in love with a human prince. Family oriented, for children over the age of 5. Tickets start at $27. fac.coloradocollege.edu/theatre-events/the-little-mermaid\\n\\nMONDAY-TUESDAY\\n\\nSign Up for free: Peak Interest Your weekly local update on arts, entertainment, and life in Colorado Springs! Delivered every Thursday to your inbox.\\n\\nSign Up View all of our newsletters. Success! Thank you for subscribing to our newsletter. View all of our newsletters. Featured Local Savings\\n\\nIf you\\'re heading out of town to celebrate, Colorado Convention Center in Denver turns into Decadence Colorado, called \"the biggest indoor New Year\\'s Eve dance music festival in the U.S.\" It becomes a two-day, electronic, high-tech Digital City and includes interactive art installations, a silent disco and a long list of musicians across two large stages. decadencenye.com, axs.com/series/24446/decadence-2024-tickets\\n\\nNEW YEAR\\'S DAY\\n\\nAfter the holiday celebrations, Jan. 1 First Day Hikes in state parks have become a national tradition and are so very Colorado. Starting the new year by enjoying the outdoors is the focus. All are free but state parks passes are required. Some parks have reservations. Participating in Colorado: Barr Lake, Boyd Lake, Castlewood Canyon, Cherry Creek, Cheyenne Mountain, Eldorado Canyon, Golden Gate Canyon, Highline Lake, James M. Robb Colorado River, Lake Pueblo, Lathrop, Mueller, Navajo, Rifle Gap, Roxborough, St Vrain, Stagecoach, State Forest, Staunton, Steamboat Lake, Sylvan Lake, Trinidad Lake, Vega. cpw.state.co.us/event/2025/01/first-day-hikes.\\n\\nSUNDAY-MONDAY\\n\\nTwo more nights to enjoy the three drive-through holiday lights of Christmas in Color at Arapahoe County Fairgrounds, Red Rocks and Water World. christmasincolor.net. Magic of Lights at Pikes Peak International Raceway in Fountain is Friday and Saturday, Jan. 1, 2 and 4. ppir.com. And New Year\\'s Eve is the final night of the season for Bridge of Lights at the Royal Gorge, across the famous suspension bridge at Cañon City.\\n\\nNEW YEAR\\'S DAY\\n\\nA 46-year running tradition welcoming the new year, the Pikes Peak Road Runners Annual Rescue Run, a 5K and a 10K to benefit the nonprofit El Paso County Search and Rescue, the mountain search and rescue team. Runs start at 10 a.m. from Norris-Penrose Event Center and trails lead into Bear Creek Park. epcsar.org/event/46th-annual-rescue-run And as this rugged group says with a laugh: Rain, Snow or 20 below!',\n",
       " 'url': 'https://gazette.com/arts-entertainment/8-weekend-things-to-do-around-colorado-springs-and-beyond-kwanzaa-skating-lights-hikes-and/article_c7acbbd2-baa1-11ef-9f2e-83c7a0bab876.html',\n",
       " 'source': 'Colorado Springs Gazette',\n",
       " 'date': '2024-12-26'}"
      ]
     },
     "execution_count": 8,
     "metadata": {},
     "output_type": "execute_result"
    }
   ],
   "source": [
    "articles[-1]"
   ]
  }
 ],
 "metadata": {
  "kernelspec": {
   "display_name": ".venv",
   "language": "python",
   "name": "python3"
  },
  "language_info": {
   "codemirror_mode": {
    "name": "ipython",
    "version": 3
   },
   "file_extension": ".py",
   "mimetype": "text/x-python",
   "name": "python",
   "nbconvert_exporter": "python",
   "pygments_lexer": "ipython3",
   "version": "3.9.13"
  }
 },
 "nbformat": 4,
 "nbformat_minor": 2
}
